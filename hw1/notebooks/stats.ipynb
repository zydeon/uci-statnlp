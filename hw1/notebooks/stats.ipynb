{
 "cells": [
  {
   "cell_type": "code",
   "execution_count": 2,
   "id": "271f8a0f",
   "metadata": {},
   "outputs": [
    {
     "name": "stderr",
     "output_type": "stream",
     "text": [
      "/Users/pmatias/Library/Python/3.8/lib/python/site-packages/gensim/similarities/__init__.py:15: UserWarning: The gensim.similarities.levenshtein submodule is disabled, because the optional Levenshtein package <https://pypi.org/project/python-Levenshtein/> is unavailable. Install Levenhstein (e.g. `pip install python-Levenshtein`) to suppress this warning.\n",
      "  warnings.warn(msg)\n"
     ]
    },
    {
     "name": "stdout",
     "output_type": "stream",
     "text": [
      "Loading w2v window=5 dimension=100...done\n",
      "Loading w2v window=5 dimension=150...done\n",
      "Loading w2v window=5 dimension=200...done\n",
      "Loading w2v window=10 dimension=100...done\n",
      "Loading w2v window=10 dimension=150...done\n",
      "Loading w2v window=10 dimension=200...done\n",
      "Loading w2v window=15 dimension=100...done\n",
      "Loading w2v window=15 dimension=150...done\n",
      "Loading w2v window=15 dimension=200...done\n",
      "Loading w2v window=20 dimension=100...done\n",
      "Loading w2v window=20 dimension=150...done\n",
      "Loading w2v window=20 dimension=200...done\n"
     ]
    }
   ],
   "source": [
    "%load_ext autoreload\n",
    "%autoreload 2\n",
    "\n",
    "import os\n",
    "import pandas as pd\n",
    "import qgrid\n",
    "import gensim\n",
    "from sklearn.feature_extraction.text import CountVectorizer, TfidfVectorizer\n",
    "from sklearn.cluster import KMeans\n",
    "from sklearn.preprocessing import normalize\n",
    "import nltk\n",
    "os.chdir(os.getcwd() + '/..')\n",
    "from data_io import *\n",
    "from speech import *\n",
    "import time"
   ]
  },
  {
   "cell_type": "code",
   "execution_count": 3,
   "id": "88bde896",
   "metadata": {},
   "outputs": [
    {
     "name": "stdout",
     "output_type": "stream",
     "text": [
      "-- train data\n",
      "4370\n",
      "-- dev data\n",
      "414\n",
      "Reading unlabeled data\n"
     ]
    }
   ],
   "source": [
    "# Read data.\n",
    "labeled = load_data()\n",
    "unlabeled = load_unlabeled_data()\n",
    "all_data = labeled.data + unlabeled.data"
   ]
  },
  {
   "cell_type": "code",
   "execution_count": null,
   "id": "6d162129",
   "metadata": {},
   "outputs": [],
   "source": [
    "# Get features\n",
    "count_vect = CountVectorizer()\n",
    "trainX = count_vect.fit_transform(labeled.data)\n",
    "df = pd.DataFrame(trainX.todense(), columns=count_vect.get_feature_names())\n",
    "\n",
    "# Add labels\n",
    "df['y'] = labeled.labels"
   ]
  },
  {
   "cell_type": "code",
   "execution_count": 32,
   "id": "9e7fc8d8",
   "metadata": {},
   "outputs": [
    {
     "data": {
      "text/plain": [
       "array(['OBAMA_PRIMARY2008', 'PAUL_PRIMARY2012', 'MCCAIN_PRIMARY2008',\n",
       "       'CLINTON_PRIMARY2008', 'ROMNEY_PRIMARY2008',\n",
       "       'BACHMANN_PRIMARY2012', 'GINGRICH_PRIMARY2012',\n",
       "       'RICHARDSON_PRIMARY2008', 'EDWARDS_PRIMARY2008',\n",
       "       'GIULIANI_PRIMARY2008', 'THOMPSON_PRIMARY2008',\n",
       "       'HUCKABEE_PRIMARY2008', 'ROMNEY_PRIMARY2012',\n",
       "       'SANTORUM_PRIMARY2012', 'PERRY_PRIMARY2012',\n",
       "       'PAWLENTY_PRIMARY2012', 'HUNTSMAN_PRIMARY2012',\n",
       "       'BIDEN_PRIMARY2008', 'CAIN_PRIMARY2012'], dtype=object)"
      ]
     },
     "execution_count": 32,
     "metadata": {},
     "output_type": "execute_result"
    }
   ],
   "source": [
    "# Is democrat\n",
    "is_dem = pd.DataFrame([\n",
    "    ('OBAMA_PRIMARY2008', 1),\n",
    "    ('PAUL_PRIMARY2012', 0),\n",
    "    ('MCCAIN_PRIMARY2008', 0),\n",
    "    ('CLINTON_PRIMARY2008', 1),\n",
    "    ('ROMNEY_PRIMARY2008', 0),\n",
    "    ('BACHMANN_PRIMARY2012', 0),\n",
    "    ('GINGRICH_PRIMARY2012', 0),\n",
    "    ('RICHARDSON_PRIMARY2008', 1),\n",
    "    ('EDWARDS_PRIMARY2008', 1),\n",
    "    ('GIULIANI_PRIMARY2008', 0),\n",
    "    ('THOMPSON_PRIMARY2008', 0),\n",
    "    ('HUCKABEE_PRIMARY2008', 0),\n",
    "    ('ROMNEY_PRIMARY2012', 0),\n",
    "    ('SANTORUM_PRIMARY2012', 0),\n",
    "    ('PERRY_PRIMARY2012', 0),\n",
    "    ('PAWLENTY_PRIMARY2012', 0),\n",
    "    ('HUNTSMAN_PRIMARY2012', 0),\n",
    "    ('BIDEN_PRIMARY2008', 0),\n",
    "    ('CAIN_PRIMARY2012', 0)\n",
    "]).set_index(0)\n",
    "candidates = is_dem.index.values\n",
    "candidates"
   ]
  },
  {
   "cell_type": "code",
   "execution_count": 30,
   "id": "3bfc063d",
   "metadata": {},
   "outputs": [],
   "source": [
    "df_stats = pd.DataFrame(index=candidates)\n",
    "\n",
    "# Add party affiliation\n",
    "df_stats['democrat'] = is_dem\n",
    "\n",
    "# Stats\n",
    "df_stats['#words'] = df.groupby('y').sum().sum(axis=1)\n",
    "df_stats['#docs'] = df.groupby('y').size()\n",
    "df_stats['#words/#docs'] = df_stats['#words'] / df_stats['#docs']\n",
    "words_lengths = np.array(list(map(len, df.columns.drop('y').values)))\n",
    "df_stats['#chars'] = df.groupby('y').sum().apply(lambda row: row * words_lengths, axis=1).sum(axis=1)\n",
    "df_stats['#chars/#words'] = df_stats['#chars'] / df_stats['#words']\n",
    "df_stats['#chars/#docs'] = df_stats['#chars'] / df_stats['#docs']"
   ]
  },
  {
   "cell_type": "code",
   "execution_count": 31,
   "id": "03dca77e",
   "metadata": {},
   "outputs": [
    {
     "data": {
      "text/plain": [
       "OBAMA_PRIMARY2008           2\n",
       "PAUL_PRIMARY2012            0\n",
       "MCCAIN_PRIMARY2008        190\n",
       "CLINTON_PRIMARY2008         1\n",
       "ROMNEY_PRIMARY2008          0\n",
       "BACHMANN_PRIMARY2012        0\n",
       "GINGRICH_PRIMARY2012        0\n",
       "RICHARDSON_PRIMARY2008      1\n",
       "EDWARDS_PRIMARY2008         1\n",
       "GIULIANI_PRIMARY2008        0\n",
       "THOMPSON_PRIMARY2008        0\n",
       "HUCKABEE_PRIMARY2008        0\n",
       "ROMNEY_PRIMARY2012          0\n",
       "SANTORUM_PRIMARY2012        0\n",
       "PERRY_PRIMARY2012           0\n",
       "PAWLENTY_PRIMARY2012        0\n",
       "HUNTSMAN_PRIMARY2012        0\n",
       "BIDEN_PRIMARY2008           0\n",
       "CAIN_PRIMARY2012            0\n",
       "Name: democrat, dtype: int64"
      ]
     },
     "execution_count": 31,
     "metadata": {},
     "output_type": "execute_result"
    }
   ],
   "source": [
    "df_stats['democrat']"
   ]
  },
  {
   "cell_type": "code",
   "execution_count": 6,
   "id": "85ccc12a",
   "metadata": {},
   "outputs": [
    {
     "data": {
      "text/html": [
       "<div>\n",
       "<style scoped>\n",
       "    .dataframe tbody tr th:only-of-type {\n",
       "        vertical-align: middle;\n",
       "    }\n",
       "\n",
       "    .dataframe tbody tr th {\n",
       "        vertical-align: top;\n",
       "    }\n",
       "\n",
       "    .dataframe thead th {\n",
       "        text-align: right;\n",
       "    }\n",
       "</style>\n",
       "<table border=\"1\" class=\"dataframe\">\n",
       "  <thead>\n",
       "    <tr style=\"text-align: right;\">\n",
       "      <th></th>\n",
       "      <th>democrat</th>\n",
       "      <th>#words</th>\n",
       "      <th>#docs</th>\n",
       "      <th>#words/#docs</th>\n",
       "      <th>#chars</th>\n",
       "      <th>#chars/#words</th>\n",
       "      <th>#chars/#docs</th>\n",
       "    </tr>\n",
       "  </thead>\n",
       "  <tbody>\n",
       "    <tr>\n",
       "      <th>CLINTON_PRIMARY2008</th>\n",
       "      <td>1</td>\n",
       "      <td>33716</td>\n",
       "      <td>1441</td>\n",
       "      <td>23.397641</td>\n",
       "      <td>153001</td>\n",
       "      <td>4.537935</td>\n",
       "      <td>106.176960</td>\n",
       "    </tr>\n",
       "    <tr>\n",
       "      <th>OBAMA_PRIMARY2008</th>\n",
       "      <td>1</td>\n",
       "      <td>19884</td>\n",
       "      <td>846</td>\n",
       "      <td>23.503546</td>\n",
       "      <td>89922</td>\n",
       "      <td>4.522330</td>\n",
       "      <td>106.290780</td>\n",
       "    </tr>\n",
       "    <tr>\n",
       "      <th>MCCAIN_PRIMARY2008</th>\n",
       "      <td>0</td>\n",
       "      <td>9207</td>\n",
       "      <td>408</td>\n",
       "      <td>22.566176</td>\n",
       "      <td>43583</td>\n",
       "      <td>4.733681</td>\n",
       "      <td>106.821078</td>\n",
       "    </tr>\n",
       "    <tr>\n",
       "      <th>EDWARDS_PRIMARY2008</th>\n",
       "      <td>1</td>\n",
       "      <td>7874</td>\n",
       "      <td>340</td>\n",
       "      <td>23.158824</td>\n",
       "      <td>36096</td>\n",
       "      <td>4.584201</td>\n",
       "      <td>106.164706</td>\n",
       "    </tr>\n",
       "    <tr>\n",
       "      <th>RICHARDSON_PRIMARY2008</th>\n",
       "      <td>1</td>\n",
       "      <td>7504</td>\n",
       "      <td>336</td>\n",
       "      <td>22.333333</td>\n",
       "      <td>36095</td>\n",
       "      <td>4.810101</td>\n",
       "      <td>107.425595</td>\n",
       "    </tr>\n",
       "    <tr>\n",
       "      <th>GIULIANI_PRIMARY2008</th>\n",
       "      <td>0</td>\n",
       "      <td>5728</td>\n",
       "      <td>247</td>\n",
       "      <td>23.190283</td>\n",
       "      <td>25798</td>\n",
       "      <td>4.503841</td>\n",
       "      <td>104.445344</td>\n",
       "    </tr>\n",
       "    <tr>\n",
       "      <th>GINGRICH_PRIMARY2012</th>\n",
       "      <td>0</td>\n",
       "      <td>4109</td>\n",
       "      <td>181</td>\n",
       "      <td>22.701657</td>\n",
       "      <td>19070</td>\n",
       "      <td>4.641032</td>\n",
       "      <td>105.359116</td>\n",
       "    </tr>\n",
       "    <tr>\n",
       "      <th>ROMNEY_PRIMARY2012</th>\n",
       "      <td>0</td>\n",
       "      <td>3902</td>\n",
       "      <td>173</td>\n",
       "      <td>22.554913</td>\n",
       "      <td>18358</td>\n",
       "      <td>4.704767</td>\n",
       "      <td>106.115607</td>\n",
       "    </tr>\n",
       "    <tr>\n",
       "      <th>SANTORUM_PRIMARY2012</th>\n",
       "      <td>0</td>\n",
       "      <td>3523</td>\n",
       "      <td>149</td>\n",
       "      <td>23.644295</td>\n",
       "      <td>15585</td>\n",
       "      <td>4.423787</td>\n",
       "      <td>104.597315</td>\n",
       "    </tr>\n",
       "    <tr>\n",
       "      <th>THOMPSON_PRIMARY2008</th>\n",
       "      <td>0</td>\n",
       "      <td>3337</td>\n",
       "      <td>145</td>\n",
       "      <td>23.013793</td>\n",
       "      <td>15223</td>\n",
       "      <td>4.561882</td>\n",
       "      <td>104.986207</td>\n",
       "    </tr>\n",
       "    <tr>\n",
       "      <th>HUCKABEE_PRIMARY2008</th>\n",
       "      <td>0</td>\n",
       "      <td>3093</td>\n",
       "      <td>130</td>\n",
       "      <td>23.792308</td>\n",
       "      <td>13547</td>\n",
       "      <td>4.379890</td>\n",
       "      <td>104.207692</td>\n",
       "    </tr>\n",
       "    <tr>\n",
       "      <th>ROMNEY_PRIMARY2008</th>\n",
       "      <td>0</td>\n",
       "      <td>1555</td>\n",
       "      <td>69</td>\n",
       "      <td>22.536232</td>\n",
       "      <td>7209</td>\n",
       "      <td>4.636013</td>\n",
       "      <td>104.478261</td>\n",
       "    </tr>\n",
       "    <tr>\n",
       "      <th>PERRY_PRIMARY2012</th>\n",
       "      <td>0</td>\n",
       "      <td>1523</td>\n",
       "      <td>68</td>\n",
       "      <td>22.397059</td>\n",
       "      <td>7265</td>\n",
       "      <td>4.770190</td>\n",
       "      <td>106.838235</td>\n",
       "    </tr>\n",
       "    <tr>\n",
       "      <th>PAUL_PRIMARY2012</th>\n",
       "      <td>0</td>\n",
       "      <td>1441</td>\n",
       "      <td>60</td>\n",
       "      <td>24.016667</td>\n",
       "      <td>6320</td>\n",
       "      <td>4.385843</td>\n",
       "      <td>105.333333</td>\n",
       "    </tr>\n",
       "    <tr>\n",
       "      <th>BIDEN_PRIMARY2008</th>\n",
       "      <td>0</td>\n",
       "      <td>1319</td>\n",
       "      <td>58</td>\n",
       "      <td>22.741379</td>\n",
       "      <td>6110</td>\n",
       "      <td>4.632297</td>\n",
       "      <td>105.344828</td>\n",
       "    </tr>\n",
       "    <tr>\n",
       "      <th>BACHMANN_PRIMARY2012</th>\n",
       "      <td>0</td>\n",
       "      <td>1068</td>\n",
       "      <td>48</td>\n",
       "      <td>22.250000</td>\n",
       "      <td>5176</td>\n",
       "      <td>4.846442</td>\n",
       "      <td>107.833333</td>\n",
       "    </tr>\n",
       "    <tr>\n",
       "      <th>PAWLENTY_PRIMARY2012</th>\n",
       "      <td>0</td>\n",
       "      <td>840</td>\n",
       "      <td>40</td>\n",
       "      <td>21.000000</td>\n",
       "      <td>4163</td>\n",
       "      <td>4.955952</td>\n",
       "      <td>104.075000</td>\n",
       "    </tr>\n",
       "    <tr>\n",
       "      <th>HUNTSMAN_PRIMARY2012</th>\n",
       "      <td>0</td>\n",
       "      <td>620</td>\n",
       "      <td>28</td>\n",
       "      <td>22.142857</td>\n",
       "      <td>3065</td>\n",
       "      <td>4.943548</td>\n",
       "      <td>109.464286</td>\n",
       "    </tr>\n",
       "    <tr>\n",
       "      <th>CAIN_PRIMARY2012</th>\n",
       "      <td>0</td>\n",
       "      <td>409</td>\n",
       "      <td>17</td>\n",
       "      <td>24.058824</td>\n",
       "      <td>1745</td>\n",
       "      <td>4.266504</td>\n",
       "      <td>102.647059</td>\n",
       "    </tr>\n",
       "  </tbody>\n",
       "</table>\n",
       "</div>"
      ],
      "text/plain": [
       "                        democrat  #words  #docs  #words/#docs  #chars  \\\n",
       "CLINTON_PRIMARY2008            1   33716   1441     23.397641  153001   \n",
       "OBAMA_PRIMARY2008              1   19884    846     23.503546   89922   \n",
       "MCCAIN_PRIMARY2008             0    9207    408     22.566176   43583   \n",
       "EDWARDS_PRIMARY2008            1    7874    340     23.158824   36096   \n",
       "RICHARDSON_PRIMARY2008         1    7504    336     22.333333   36095   \n",
       "GIULIANI_PRIMARY2008           0    5728    247     23.190283   25798   \n",
       "GINGRICH_PRIMARY2012           0    4109    181     22.701657   19070   \n",
       "ROMNEY_PRIMARY2012             0    3902    173     22.554913   18358   \n",
       "SANTORUM_PRIMARY2012           0    3523    149     23.644295   15585   \n",
       "THOMPSON_PRIMARY2008           0    3337    145     23.013793   15223   \n",
       "HUCKABEE_PRIMARY2008           0    3093    130     23.792308   13547   \n",
       "ROMNEY_PRIMARY2008             0    1555     69     22.536232    7209   \n",
       "PERRY_PRIMARY2012              0    1523     68     22.397059    7265   \n",
       "PAUL_PRIMARY2012               0    1441     60     24.016667    6320   \n",
       "BIDEN_PRIMARY2008              0    1319     58     22.741379    6110   \n",
       "BACHMANN_PRIMARY2012           0    1068     48     22.250000    5176   \n",
       "PAWLENTY_PRIMARY2012           0     840     40     21.000000    4163   \n",
       "HUNTSMAN_PRIMARY2012           0     620     28     22.142857    3065   \n",
       "CAIN_PRIMARY2012               0     409     17     24.058824    1745   \n",
       "\n",
       "                        #chars/#words  #chars/#docs  \n",
       "CLINTON_PRIMARY2008          4.537935    106.176960  \n",
       "OBAMA_PRIMARY2008            4.522330    106.290780  \n",
       "MCCAIN_PRIMARY2008           4.733681    106.821078  \n",
       "EDWARDS_PRIMARY2008          4.584201    106.164706  \n",
       "RICHARDSON_PRIMARY2008       4.810101    107.425595  \n",
       "GIULIANI_PRIMARY2008         4.503841    104.445344  \n",
       "GINGRICH_PRIMARY2012         4.641032    105.359116  \n",
       "ROMNEY_PRIMARY2012           4.704767    106.115607  \n",
       "SANTORUM_PRIMARY2012         4.423787    104.597315  \n",
       "THOMPSON_PRIMARY2008         4.561882    104.986207  \n",
       "HUCKABEE_PRIMARY2008         4.379890    104.207692  \n",
       "ROMNEY_PRIMARY2008           4.636013    104.478261  \n",
       "PERRY_PRIMARY2012            4.770190    106.838235  \n",
       "PAUL_PRIMARY2012             4.385843    105.333333  \n",
       "BIDEN_PRIMARY2008            4.632297    105.344828  \n",
       "BACHMANN_PRIMARY2012         4.846442    107.833333  \n",
       "PAWLENTY_PRIMARY2012         4.955952    104.075000  \n",
       "HUNTSMAN_PRIMARY2012         4.943548    109.464286  \n",
       "CAIN_PRIMARY2012             4.266504    102.647059  "
      ]
     },
     "execution_count": 6,
     "metadata": {},
     "output_type": "execute_result"
    }
   ],
   "source": [
    "df_stats.sort_values(by='#docs', ascending=False)"
   ]
  },
  {
   "cell_type": "code",
   "execution_count": null,
   "id": "553af21d",
   "metadata": {},
   "outputs": [],
   "source": []
  },
  {
   "cell_type": "code",
   "execution_count": 7,
   "id": "663b2acc",
   "metadata": {},
   "outputs": [
    {
     "data": {
      "application/vnd.jupyter.widget-view+json": {
       "model_id": "7eb773f757e944a9ac8f8cf8ad5644ef",
       "version_major": 2,
       "version_minor": 0
      },
      "text/plain": [
       "QgridWidget(grid_options={'fullWidthRows': True, 'syncColumnCellResize': True, 'forceFitColumns': True, 'defau…"
      ]
     },
     "metadata": {},
     "output_type": "display_data"
    }
   ],
   "source": [
    "qgrid.show_grid(df_stats)"
   ]
  },
  {
   "cell_type": "code",
   "execution_count": 6,
   "id": "68c7a761",
   "metadata": {},
   "outputs": [
    {
     "data": {
      "text/plain": [
       "<AxesSubplot:>"
      ]
     },
     "execution_count": 6,
     "metadata": {},
     "output_type": "execute_result"
    },
    {
     "data": {
      "image/png": "[encoded data removed]",
      "text/plain": [
       "<Figure size 432x288 with 1 Axes>"
      ]
     },
     "metadata": {
      "needs_background": "light"
     },
     "output_type": "display_data"
    }
   ],
   "source": [
    "df_stats['#docs'].sort_values(ascending=False).plot(marker='o', rot=90)"
   ]
  }
 ],
 "metadata": {
  "kernelspec": {
   "display_name": "Python 3",
   "language": "python",
   "name": "python3"
  },
  "language_info": {
   "codemirror_mode": {
    "name": "ipython",
    "version": 3
   },
   "file_extension": ".py",
   "mimetype": "text/x-python",
   "name": "python",
   "nbconvert_exporter": "python",
   "pygments_lexer": "ipython3",
   "version": "3.8.5"
  }
 },
 "nbformat": 4,
 "nbformat_minor": 5
}
